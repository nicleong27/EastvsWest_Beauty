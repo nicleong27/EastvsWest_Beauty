{
 "cells": [
  {
   "cell_type": "markdown",
   "metadata": {},
   "source": [
    "# Hypothesis Testing"
   ]
  },
  {
   "cell_type": "code",
   "execution_count": 76,
   "metadata": {},
   "outputs": [],
   "source": [
    "import pandas as pd\n",
    "import re\n",
    "import numpy as np\n",
    "import matplotlib.pyplot as plt\n",
    "import scipy.stats as stats\n",
    "plt.style.use('ggplot')\n",
    "\n",
    "df = pd.read_csv('cosmetic.csv')"
   ]
  },
  {
   "cell_type": "markdown",
   "metadata": {},
   "source": [
    "**Data Cleaning**"
   ]
  },
  {
   "cell_type": "markdown",
   "metadata": {},
   "source": [
    "Recreating Sephora dataframe to grab arrays needed for hypothesis testing"
   ]
  },
  {
   "cell_type": "code",
   "execution_count": 77,
   "metadata": {},
   "outputs": [],
   "source": [
    "#classify brand names as Korean/Western\n",
    "korean_brands = ['LANEIGE', 'AMOREPACIFIC', 'DR. JART+', 'GLOW RECIPE', 'TOO COOL FOR SCHOOL', 'SON & PARK', 'J. ONE']\n",
    "japanese_brands = ['TATCHA', 'SK-II', 'KOH GEN DO']\n",
    "df['Classification'] = ['KOREAN' if val in korean_brands else 'JAPANESE' if val in japanese_brands else 'WESTERN' for val in df['brand']]"
   ]
  },
  {
   "cell_type": "code",
   "execution_count": 78,
   "metadata": {},
   "outputs": [],
   "source": [
    "#search for the number of products that contain chemicals in chemical list\n",
    "df['ingredients_final'] = df['ingredients']\n",
    "chemical_list = ['Titanium Dioxide',\n",
    "                 'Benzophenone',\n",
    "                 'Ginkgo Biloba Extract',\n",
    "                 'Coffee',\n",
    "                 'Aloe Vera, Whole Leaf Extract',\n",
    "                 'Caffeic Acid',\n",
    "                 'Butylated Hydroxyanisole',\n",
    "                 'Acetaldehyde',\n",
    "                 'Benzo[A]Pyrene',\n",
    "                 'Benz[A]Anthracene',\n",
    "                 'Estragole',\n",
    "                 'Safrole']\n",
    "\n",
    "#create new chemical column that classifies brands that contain hazardous chemicals\n",
    "df['Chem?'] = df['ingredients'].str.contains('|'.join(chemical_list))\n",
    "\n",
    "#check if there are any null values\n",
    "df['ingredients'].isnull().values.any()\n",
    "#drop NA values\n",
    "df2 = df.dropna()\n",
    "# df2.reset_index().head()"
   ]
  },
  {
   "cell_type": "code",
   "execution_count": 9,
   "metadata": {},
   "outputs": [
    {
     "name": "stderr",
     "output_type": "stream",
     "text": [
      "/Users/seanleong/anaconda3/lib/python3.6/site-packages/ipykernel_launcher.py:3: SettingWithCopyWarning: \n",
      "A value is trying to be set on a copy of a slice from a DataFrame.\n",
      "Try using .loc[row_indexer,col_indexer] = value instead\n",
      "\n",
      "See the caveats in the documentation: http://pandas.pydata.org/pandas-docs/stable/indexing.html#indexing-view-versus-copy\n",
      "  This is separate from the ipykernel package so we can avoid doing imports until\n"
     ]
    },
    {
     "data": {
      "text/plain": [
       "0    1174\n",
       "1     406\n",
       "Name: Chem?, dtype: int64"
      ]
     },
     "execution_count": 9,
     "metadata": {},
     "output_type": "execute_result"
    }
   ],
   "source": [
    "sephora_df_hyp = df2[['name','Chem?', 'Classification']]\n",
    "sephora_df_hyp2 = sephora_df_hyp[sephora_df_hyp['Classification'] != 'JAPANESE']\n",
    "sephora_df_hyp2['Chem?'] = sephora_df_hyp2['Chem?'].astype(int)\n",
    "\n",
    "sephora_df_hyp2['Chem?'].value_counts()\n",
    "# sephora_df_hyp2.head()"
   ]
  },
  {
   "cell_type": "code",
   "execution_count": 79,
   "metadata": {},
   "outputs": [],
   "source": [
    "#create numpy array from Western Chemical series \n",
    "sephora_df_hyp_west = sephora_df_hyp2[sephora_df_hyp2['Classification'] == 'WESTERN']\n",
    "sample_west = np.array(sephora_df_hyp_west['Chem?'].values.tolist())\n",
    "# sample_west\n",
    "# sum(sample_west)"
   ]
  },
  {
   "cell_type": "code",
   "execution_count": 80,
   "metadata": {},
   "outputs": [],
   "source": [
    "#create numpy array from Korean Chemical series \n",
    "sephora_df_hyp_west = sephora_df_hyp2[sephora_df_hyp2['Classification'] == 'KOREAN']\n",
    "sample_kor = np.array(sephora_df_hyp_west['Chem?'].values.tolist())\n",
    "# sample_kor\n",
    "# sum(sample_kor)"
   ]
  },
  {
   "cell_type": "markdown",
   "metadata": {},
   "source": [
    "Based on the potentially hazardous chemicals found in the California Safe Cosmetics Program (CSCP) dataset, there are 12 types of ingredients that are harmful. These 12 types of ingredients were then identified in the list of ingredients found on the Sephora skincare dataset (categorized between Western and Korean) and tagged as being harmful or not. Below is a summary of the number of products that do and do not contain harmful ingredients by category.\n",
    "\n",
    "|              | Toxic     | Nontoxic |\n",
    "|:------------:|:---------:| -------- |\n",
    "| Korean       | 20        | 73       |\n",
    "| Western      | 338       | 1004     |"
   ]
  },
  {
   "cell_type": "markdown",
   "metadata": {},
   "source": [
    "**Is the prevalance of toxic ingredients higher in Western skincare products than Korean ones?**"
   ]
  },
  {
   "cell_type": "markdown",
   "metadata": {},
   "source": [
    "$$ p_K = P(\\text{Korean skincare toxicity}) $$\n",
    "$$ p_W = P(\\text{Western skincare toxicity}) $$\n",
    "\n",
    "$$ H_0: \\ p_K = p_W $$\n",
    "$$ H_a: \\ p_W \\geq p_K $$"
   ]
  },
  {
   "cell_type": "markdown",
   "metadata": {},
   "source": [
    "**2 Sample Z-Test**"
   ]
  },
  {
   "cell_type": "markdown",
   "metadata": {},
   "source": [
    "We assume that the number of toxic products for Korean and Western brands are independent of one another and are Binomially distributed. A normal approximaton is appropriate for these Binomial distributions. We're looking to compare the toxicity prevelance in Korean skincare products against Western ones.\n",
    "\n",
    "$$ \\text{Toxicity prevalance in Korean skincare} \\approx Normal \\left( p_K, \\sqrt{\\frac{p_K(1-p_K}{93}} \\right) $$\n",
    "$$ \\text{Toxicity prevalance in Western skincare} \\approx Normal \\left( p_W, \\sqrt{\\frac{p_W(1-p_W)}{1342}} \\right) $$\n",
    "\n",
    "We assume that the toxicity rates of Korean and Western products are independent of one another\n",
    "\n",
    "$$ \\text{Difference in sample toxicity rates between Korean and Western skincare products} \\approx Normal \\left( p_K - p_W, \\sqrt{\\frac{p_K(1-p_K)}{93} + \\frac{p_W(1-p_W)}{1342}} \\right) $$\n",
    "\n",
    "Since we do not know the true toxicity rates in $p_K$ and $p_W$, the best approach is to substitute an estimate of the shared value from the sample\n",
    "\n",
    "$$ \\text{Difference in sample toxicity rates between Korean and Western skincare products} \\approx Normal \\left( 0, \\sqrt{\\frac{1,435 \\hat p(1- \\hat p)}{124,806}} \\right) $$"
   ]
  },
  {
   "cell_type": "code",
   "execution_count": 29,
   "metadata": {},
   "outputs": [],
   "source": [
    "shared_sample_freq = (20 + 338) / 1435\n",
    "shared_sample_variance = 1435 * (shared_sample_freq * (1 - shared_sample_freq)) / 124806\n",
    "\n",
    "diff_in_prop = stats.norm(0, np.sqrt(shared_sample_variance))"
   ]
  },
  {
   "cell_type": "markdown",
   "metadata": {},
   "source": [
    "Calculate the difference in proportions in observed sample"
   ]
  },
  {
   "cell_type": "code",
   "execution_count": 37,
   "metadata": {},
   "outputs": [
    {
     "name": "stdout",
     "output_type": "stream",
     "text": [
      "Difference in sample proportions: 0.04\n"
     ]
    }
   ],
   "source": [
    "west_sample_freq = 338 / 1342\n",
    "kor_sample_freq = 20 / 93\n",
    "diff_in_sample_prop = west_sample_freq - kor_sample_freq\n",
    "print('Difference in sample proportions: {:2.2f}'.format(diff_in_sample_prop))"
   ]
  },
  {
   "cell_type": "markdown",
   "metadata": {},
   "source": [
    "The p-value for this experiment is\n",
    "\n",
    "$$ P(\\text{Difference in proportions equal to or more extreme than observed} \\mid \\text{Null hypothesis}) $$"
   ]
  },
  {
   "cell_type": "code",
   "execution_count": 38,
   "metadata": {},
   "outputs": [
    {
     "name": "stdout",
     "output_type": "stream",
     "text": [
      "The p-value for toxicity rate comparison: 0.21\n"
     ]
    }
   ],
   "source": [
    "p_val = 1 - diff_in_prop.cdf(diff_in_sample_prop)\n",
    "print('The p-value for toxicity rate comparison: {:2.2f}'.format(p_val))"
   ]
  },
  {
   "cell_type": "code",
   "execution_count": 74,
   "metadata": {},
   "outputs": [
    {
     "data": {
      "text/plain": [
       "Text(0.5,1,'p-value Region')"
      ]
     },
     "execution_count": 74,
     "metadata": {},
     "output_type": "execute_result"
    },
    {
     "data": {
      "image/png": "[encoded data removed]",
      "text/plain": [
       "<Figure size 1152x288 with 1 Axes>"
      ]
     },
     "metadata": {},
     "output_type": "display_data"
    }
   ],
   "source": [
    "fig, ax = plt.subplots(1, figsize=(16, 4))\n",
    "\n",
    "x = np.linspace(-1, 1, num=250)\n",
    "ax.plot(x, diff_in_prop.pdf(x), linewidth=3)\n",
    "ax.fill_between(x, diff_in_prop.pdf(x), where=(x >= diff_in_sample_prop),\n",
    "               color='red', alpha=0.25)\n",
    "ax.set_xlim(-1, 1)\n",
    "ax.set_title('p-value Region')"
   ]
  },
  {
   "cell_type": "markdown",
   "metadata": {},
   "source": [
    "We will set our level of significance(alpha) relatively high at $\\alpha = 0.2$. Since the p-value is greater than alpha, we will fail to reject our null hypothesis. There isn't enough statistical evidence that shows that the toxicity rate in Western skincare products is greater than Korean ones."
   ]
  },
  {
   "cell_type": "markdown",
   "metadata": {},
   "source": [
    "**Welch' T-Test**"
   ]
  },
  {
   "cell_type": "markdown",
   "metadata": {},
   "source": [
    "We're using Welch's T-Test to test if the means of two populations are equal since we have unequal sample sizes.\n",
    "\n",
    "Our null hypothesis is:\n",
    "$$ H_0: \\ p_K = p_W $$\n",
    "$$ H_a: \\ p_W \\geq p_K $$"
   ]
  },
  {
   "cell_type": "code",
   "execution_count": 65,
   "metadata": {},
   "outputs": [],
   "source": [
    "def welch_test_statistic(sample1, sample2):\n",
    "    numerator = np.mean(sample1) - np.mean(sample2)\n",
    "    denominator_sq = (np.var(sample1) / len(sample1)) + (np.var(sample2) / len(sample2))\n",
    "    return numerator / np.sqrt(denominator_sq)"
   ]
  },
  {
   "cell_type": "code",
   "execution_count": 66,
   "metadata": {},
   "outputs": [
    {
     "name": "stdout",
     "output_type": "stream",
     "text": [
      "Welch Test Statistic: -0.17\n"
     ]
    }
   ],
   "source": [
    "test_stat = welch_test_statistic(sample_kor, sample_west)\n",
    "print('Welch Test Statistic: {:2.2f}'.format(test_stat))"
   ]
  },
  {
   "cell_type": "code",
   "execution_count": 14,
   "metadata": {},
   "outputs": [],
   "source": [
    "#use student t-test and calculate degrees of freedom\n",
    "def welch_satterthwaite_df(sample1, sample2):\n",
    "    ss1 = len(sample1)\n",
    "    ss2 = len(sample2)\n",
    "    df = (\n",
    "        ((np.var(sample1)/ss1 + np.var(sample2)/ss2)**(2.0)) / \n",
    "        ((np.var(sample1)/ss1)**(2.0)/(ss1 - 1) + (np.var(sample2)/ss2)**(2.0)/(ss2 - 1))\n",
    "    )\n",
    "    return df"
   ]
  },
  {
   "cell_type": "code",
   "execution_count": 60,
   "metadata": {},
   "outputs": [
    {
     "name": "stdout",
     "output_type": "stream",
     "text": [
      "Degrees of Freedom for Welch's Test: 118.29\n"
     ]
    }
   ],
   "source": [
    "df = welch_satterthwaite_df(sample_kor, sample_west)\n",
    "print(\"Degrees of Freedom for Welch's Test: {:2.2f}\".format(df))"
   ]
  },
  {
   "cell_type": "code",
   "execution_count": 70,
   "metadata": {},
   "outputs": [
    {
     "data": {
      "text/plain": [
       "Text(0.5,1,\"Distribution of Welsh's Test Statistic Under the Null Hypothesis\")"
      ]
     },
     "execution_count": 70,
     "metadata": {},
     "output_type": "execute_result"
    },
    {
     "data": {
      "image/png": "[encoded data removed]",
      "text/plain": [
       "<Figure size 1152x288 with 1 Axes>"
      ]
     },
     "metadata": {},
     "output_type": "display_data"
    }
   ],
   "source": [
    "x = np.linspace(-3, 3, num=250)\n",
    "\n",
    "fig, ax = plt.subplots(1, figsize=(16, 4))\n",
    "students = stats.t(df)\n",
    "ax.plot(x, students.pdf(x), linewidth=2, label=\"Degree of Freedom: {:2.2f}\".format(df))\n",
    "_ = ax.fill_between(x, students.pdf(x), where=(x >= -test_stat), color='red', alpha=0.25)\n",
    "# _ = ax.fill_between(x, students.pdf(x), where=(x <= test_stat), color='red', alpha=0.25)\n",
    "\n",
    "ax.legend()\n",
    "ax.set_title(\"Distribution of Welsh's Test Statistic Under the Null Hypothesis\")"
   ]
  },
  {
   "cell_type": "code",
   "execution_count": 73,
   "metadata": {},
   "outputs": [
    {
     "name": "stdout",
     "output_type": "stream",
     "text": [
      "p-value for different average kickflip height: 0.43\n"
     ]
    }
   ],
   "source": [
    "p_val = (1 - students.cdf(-test_stat))\n",
    "print('p-value for different average kickflip height: {:2.2f}'.format(p_val))"
   ]
  },
  {
   "cell_type": "markdown",
   "metadata": {},
   "source": [
    "We will set our level of significance(alpha) relatively high at $\\alpha = 0.2$. Since the p-value is greater than alpha, we will fail to reject our null hypothesis. There isn't enough statistical evidence that shows that the toxicity rate in Western skincare products is greater than Korean ones."
   ]
  },
  {
   "cell_type": "markdown",
   "metadata": {},
   "source": [
    "**U-Test**"
   ]
  },
  {
   "cell_type": "markdown",
   "metadata": {},
   "source": [
    "> $H_0$: The number of toxic products in Western skincare products are equaliy likely to be higher than Korean ones as the other way around.  I.e. \n",
    "  \n",
    "  $$P(\\text{# of Western toxic products} > \\text{# of Korean toxic products}) = 0.5$$"
   ]
  },
  {
   "cell_type": "code",
   "execution_count": 72,
   "metadata": {},
   "outputs": [
    {
     "name": "stdout",
     "output_type": "stream",
     "text": [
      "p-value for Western > Matt: 0.43\n"
     ]
    }
   ],
   "source": [
    "res = stats.mannwhitneyu(sample_west, sample_kor, alternative=\"greater\")\n",
    "print('p-value for Western > Matt: {:2.2f}'.format(res.pvalue))"
   ]
  },
  {
   "cell_type": "markdown",
   "metadata": {},
   "source": [
    "It is safe to assume that we do not have enough statistical evidence to say that Western skincare products have a greater toxicity rate that Korean ones since our p-value from the U-Test is the same as the p-value from our Welch's test.\n",
    "\n",
    "Going forward, when re-performing this test, it would be beneficial to increase the sample size of the Korean skincare brands and products. This would perhaps change the result of the test"
   ]
  },
  {
   "cell_type": "code",
   "execution_count": null,
   "metadata": {},
   "outputs": [],
   "source": []
  }
 ],
 "metadata": {
  "kernelspec": {
   "display_name": "Python 3",
   "language": "python",
   "name": "python3"
  },
  "language_info": {
   "codemirror_mode": {
    "name": "ipython",
    "version": 3
   },
   "file_extension": ".py",
   "mimetype": "text/x-python",
   "name": "python",
   "nbconvert_exporter": "python",
   "pygments_lexer": "ipython3",
   "version": "3.6.5"
  }
 },
 "nbformat": 4,
 "nbformat_minor": 2
}
