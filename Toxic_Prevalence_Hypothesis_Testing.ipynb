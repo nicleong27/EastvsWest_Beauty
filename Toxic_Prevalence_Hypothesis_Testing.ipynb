{
 "cells": [
  {
   "cell_type": "markdown",
   "metadata": {},
   "source": [
    "# Hypothesis Testing"
   ]
  },
  {
   "cell_type": "code",
   "execution_count": 21,
   "metadata": {},
   "outputs": [],
   "source": [
    "import pandas as pd\n",
    "import re\n",
    "import numpy as np\n",
    "import matplotlib.pyplot as plt\n",
    "import scipy.stats as stats\n",
    "plt.style.use('ggplot')\n",
    "\n",
    "df = pd.read_csv('cosmetic.csv')"
   ]
  },
  {
   "cell_type": "markdown",
   "metadata": {},
   "source": [
    "**Data Cleaning**"
   ]
  },
  {
   "cell_type": "markdown",
   "metadata": {},
   "source": [
    "Recreating Sephora dataframe to grab arrays needed for hypothesis testing"
   ]
  },
  {
   "cell_type": "code",
   "execution_count": 6,
   "metadata": {},
   "outputs": [],
   "source": [
    "#classify brand names as Korean/Western\n",
    "korean_brands = ['LANEIGE', 'AMOREPACIFIC', 'DR. JART+', 'GLOW RECIPE', 'TOO COOL FOR SCHOOL', 'SON & PARK', 'J. ONE']\n",
    "japanese_brands = ['TATCHA', 'SK-II', 'KOH GEN DO']\n",
    "df['Classification'] = ['KOREAN' if val in korean_brands else 'JAPANESE' if val in japanese_brands else 'WESTERN' for val in df['brand']]"
   ]
  },
  {
   "cell_type": "code",
   "execution_count": 8,
   "metadata": {},
   "outputs": [
    {
     "data": {
      "text/html": [
       "<div>\n",
       "<style scoped>\n",
       "    .dataframe tbody tr th:only-of-type {\n",
       "        vertical-align: middle;\n",
       "    }\n",
       "\n",
       "    .dataframe tbody tr th {\n",
       "        vertical-align: top;\n",
       "    }\n",
       "\n",
       "    .dataframe thead th {\n",
       "        text-align: right;\n",
       "    }\n",
       "</style>\n",
       "<table border=\"1\" class=\"dataframe\">\n",
       "  <thead>\n",
       "    <tr style=\"text-align: right;\">\n",
       "      <th></th>\n",
       "      <th>index</th>\n",
       "      <th>Label</th>\n",
       "      <th>URL</th>\n",
       "      <th>brand</th>\n",
       "      <th>name</th>\n",
       "      <th>price</th>\n",
       "      <th>rank</th>\n",
       "      <th>skin_type</th>\n",
       "      <th>ingredients</th>\n",
       "      <th>Classification</th>\n",
       "      <th>ingredients_final</th>\n",
       "      <th>Chem?</th>\n",
       "    </tr>\n",
       "  </thead>\n",
       "  <tbody>\n",
       "    <tr>\n",
       "      <th>0</th>\n",
       "      <td>0</td>\n",
       "      <td>moisturizing-cream-oils-mists</td>\n",
       "      <td>https://www.sephora.com/product/creme-de-la-me...</td>\n",
       "      <td>LA MER</td>\n",
       "      <td>Crème de la Mer</td>\n",
       "      <td>$175.00</td>\n",
       "      <td>4.1</td>\n",
       "      <td>['✔ Normal\\n', '✔ Oily\\n', '✔ Combination\\n', ...</td>\n",
       "      <td>Algae (Seaweed) Extract, Mineral Oil, Petrolat...</td>\n",
       "      <td>WESTERN</td>\n",
       "      <td>Algae (Seaweed) Extract, Mineral Oil, Petrolat...</td>\n",
       "      <td>False</td>\n",
       "    </tr>\n",
       "    <tr>\n",
       "      <th>1</th>\n",
       "      <td>1</td>\n",
       "      <td>moisturizing-cream-oils-mists</td>\n",
       "      <td>https://www.sephora.com/product/facial-treatme...</td>\n",
       "      <td>SK-II</td>\n",
       "      <td>Facial Treatment Essence</td>\n",
       "      <td>$179.00\\n($214.00 value)</td>\n",
       "      <td>4.1</td>\n",
       "      <td>['✔ Normal\\n', '✔ Oily\\n', '✔ Combination\\n', ...</td>\n",
       "      <td>-Pitera™: A bio-ingredient rich in vitamins, o...</td>\n",
       "      <td>JAPANESE</td>\n",
       "      <td>-Pitera™: A bio-ingredient rich in vitamins, o...</td>\n",
       "      <td>False</td>\n",
       "    </tr>\n",
       "    <tr>\n",
       "      <th>2</th>\n",
       "      <td>2</td>\n",
       "      <td>moisturizing-cream-oils-mists</td>\n",
       "      <td>https://www.sephora.com/product/protini-tm-pol...</td>\n",
       "      <td>DRUNK ELEPHANT</td>\n",
       "      <td>Protini™ Polypeptide Cream</td>\n",
       "      <td>$68.00</td>\n",
       "      <td>4.4</td>\n",
       "      <td>['✔ Normal\\n', '✔ Oily\\n', '✔ Combination\\n', ...</td>\n",
       "      <td>-9 Signal Peptide Complex \\n-Pygmy Waterlily S...</td>\n",
       "      <td>WESTERN</td>\n",
       "      <td>-9 Signal Peptide Complex \\n-Pygmy Waterlily S...</td>\n",
       "      <td>False</td>\n",
       "    </tr>\n",
       "    <tr>\n",
       "      <th>3</th>\n",
       "      <td>3</td>\n",
       "      <td>moisturizing-cream-oils-mists</td>\n",
       "      <td>https://www.sephora.com/product/the-moisturizi...</td>\n",
       "      <td>LA MER</td>\n",
       "      <td>The Moisturizing Soft Cream</td>\n",
       "      <td>$175.00</td>\n",
       "      <td>3.8</td>\n",
       "      <td>['✔ Normal\\n', '✔ Oily\\n', '✔ Combination\\n', ...</td>\n",
       "      <td>Algae (Seaweed) Extract, Cyclopentasiloxane, P...</td>\n",
       "      <td>WESTERN</td>\n",
       "      <td>Algae (Seaweed) Extract, Cyclopentasiloxane, P...</td>\n",
       "      <td>False</td>\n",
       "    </tr>\n",
       "    <tr>\n",
       "      <th>4</th>\n",
       "      <td>4</td>\n",
       "      <td>moisturizing-cream-oils-mists</td>\n",
       "      <td>https://www.sephora.com/product/your-skin-but-...</td>\n",
       "      <td>IT COSMETICS</td>\n",
       "      <td>Your Skin But Better™ CC+™ Cream with SPF 50+</td>\n",
       "      <td>$38.00</td>\n",
       "      <td>4.1</td>\n",
       "      <td>['✔ Full\\n', '✔ Sensitive\\n', '✔ Normal\\n', '✔...</td>\n",
       "      <td>-Collagen: Supports skin elasticity for a yout...</td>\n",
       "      <td>WESTERN</td>\n",
       "      <td>-Collagen: Supports skin elasticity for a yout...</td>\n",
       "      <td>False</td>\n",
       "    </tr>\n",
       "  </tbody>\n",
       "</table>\n",
       "</div>"
      ],
      "text/plain": [
       "   index                          Label  \\\n",
       "0      0  moisturizing-cream-oils-mists   \n",
       "1      1  moisturizing-cream-oils-mists   \n",
       "2      2  moisturizing-cream-oils-mists   \n",
       "3      3  moisturizing-cream-oils-mists   \n",
       "4      4  moisturizing-cream-oils-mists   \n",
       "\n",
       "                                                 URL           brand  \\\n",
       "0  https://www.sephora.com/product/creme-de-la-me...          LA MER   \n",
       "1  https://www.sephora.com/product/facial-treatme...           SK-II   \n",
       "2  https://www.sephora.com/product/protini-tm-pol...  DRUNK ELEPHANT   \n",
       "3  https://www.sephora.com/product/the-moisturizi...          LA MER   \n",
       "4  https://www.sephora.com/product/your-skin-but-...    IT COSMETICS   \n",
       "\n",
       "                                            name                     price  \\\n",
       "0                                Crème de la Mer                   $175.00   \n",
       "1                       Facial Treatment Essence  $179.00\\n($214.00 value)   \n",
       "2                     Protini™ Polypeptide Cream                    $68.00   \n",
       "3                    The Moisturizing Soft Cream                   $175.00   \n",
       "4  Your Skin But Better™ CC+™ Cream with SPF 50+                    $38.00   \n",
       "\n",
       "   rank                                          skin_type  \\\n",
       "0   4.1  ['✔ Normal\\n', '✔ Oily\\n', '✔ Combination\\n', ...   \n",
       "1   4.1  ['✔ Normal\\n', '✔ Oily\\n', '✔ Combination\\n', ...   \n",
       "2   4.4  ['✔ Normal\\n', '✔ Oily\\n', '✔ Combination\\n', ...   \n",
       "3   3.8  ['✔ Normal\\n', '✔ Oily\\n', '✔ Combination\\n', ...   \n",
       "4   4.1  ['✔ Full\\n', '✔ Sensitive\\n', '✔ Normal\\n', '✔...   \n",
       "\n",
       "                                         ingredients Classification  \\\n",
       "0  Algae (Seaweed) Extract, Mineral Oil, Petrolat...        WESTERN   \n",
       "1  -Pitera™: A bio-ingredient rich in vitamins, o...       JAPANESE   \n",
       "2  -9 Signal Peptide Complex \\n-Pygmy Waterlily S...        WESTERN   \n",
       "3  Algae (Seaweed) Extract, Cyclopentasiloxane, P...        WESTERN   \n",
       "4  -Collagen: Supports skin elasticity for a yout...        WESTERN   \n",
       "\n",
       "                                   ingredients_final  Chem?  \n",
       "0  Algae (Seaweed) Extract, Mineral Oil, Petrolat...  False  \n",
       "1  -Pitera™: A bio-ingredient rich in vitamins, o...  False  \n",
       "2  -9 Signal Peptide Complex \\n-Pygmy Waterlily S...  False  \n",
       "3  Algae (Seaweed) Extract, Cyclopentasiloxane, P...  False  \n",
       "4  -Collagen: Supports skin elasticity for a yout...  False  "
      ]
     },
     "execution_count": 8,
     "metadata": {},
     "output_type": "execute_result"
    }
   ],
   "source": [
    "#search for the number of products that contain chemicals in chemical list\n",
    "df['ingredients_final'] = df['ingredients']\n",
    "chemical_list = ['Titanium Dioxide',\n",
    "                 'Benzophenone',\n",
    "                 'Ginkgo Biloba Extract',\n",
    "                 'Coffee',\n",
    "                 'Aloe Vera, Whole Leaf Extract',\n",
    "                 'Caffeic Acid',\n",
    "                 'Butylated Hydroxyanisole',\n",
    "                 'Acetaldehyde',\n",
    "                 'Benzo[A]Pyrene',\n",
    "                 'Benz[A]Anthracene',\n",
    "                 'Estragole',\n",
    "                 'Safrole']\n",
    "\n",
    "#create new chemical column that classifies brands that contain hazardous chemicals\n",
    "df['Chem?'] = df['ingredients'].str.contains('|'.join(chemical_list))\n",
    "\n",
    "#check if there are any null values\n",
    "df['ingredients'].isnull().values.any()\n",
    "#drop NA values\n",
    "df2 = df.dropna()\n",
    "df2.reset_index().head()"
   ]
  },
  {
   "cell_type": "code",
   "execution_count": 9,
   "metadata": {},
   "outputs": [
    {
     "name": "stderr",
     "output_type": "stream",
     "text": [
      "/Users/seanleong/anaconda3/lib/python3.6/site-packages/ipykernel_launcher.py:3: SettingWithCopyWarning: \n",
      "A value is trying to be set on a copy of a slice from a DataFrame.\n",
      "Try using .loc[row_indexer,col_indexer] = value instead\n",
      "\n",
      "See the caveats in the documentation: http://pandas.pydata.org/pandas-docs/stable/indexing.html#indexing-view-versus-copy\n",
      "  This is separate from the ipykernel package so we can avoid doing imports until\n"
     ]
    },
    {
     "data": {
      "text/plain": [
       "0    1174\n",
       "1     406\n",
       "Name: Chem?, dtype: int64"
      ]
     },
     "execution_count": 9,
     "metadata": {},
     "output_type": "execute_result"
    }
   ],
   "source": [
    "sephora_df_hyp = df2[['name','Chem?', 'Classification']]\n",
    "sephora_df_hyp2 = sephora_df_hyp[sephora_df_hyp['Classification'] != 'JAPANESE']\n",
    "sephora_df_hyp2['Chem?'] = sephora_df_hyp2['Chem?'].astype(int)\n",
    "\n",
    "sephora_df_hyp2['Chem?'].value_counts()\n",
    "# sephora_df_hyp2.head()"
   ]
  },
  {
   "cell_type": "code",
   "execution_count": 12,
   "metadata": {},
   "outputs": [
    {
     "data": {
      "text/plain": [
       "380"
      ]
     },
     "execution_count": 12,
     "metadata": {},
     "output_type": "execute_result"
    }
   ],
   "source": [
    "#create numpy array from Western Chemical series \n",
    "sephora_df_hyp_west = sephora_df_hyp2[sephora_df_hyp2['Classification'] == 'WESTERN']\n",
    "sample_west = np.array(sephora_df_hyp_west['Chem?'].values.tolist())\n",
    "sample_west\n",
    "sum(sample_west)"
   ]
  },
  {
   "cell_type": "code",
   "execution_count": 13,
   "metadata": {},
   "outputs": [
    {
     "data": {
      "text/plain": [
       "26"
      ]
     },
     "execution_count": 13,
     "metadata": {},
     "output_type": "execute_result"
    }
   ],
   "source": [
    "#create numpy array from Korean Chemical series \n",
    "sephora_df_hyp_west = sephora_df_hyp2[sephora_df_hyp2['Classification'] == 'KOREAN']\n",
    "sample_kor = np.array(sephora_df_hyp_west['Chem?'].values.tolist())\n",
    "sample_kor\n",
    "sum(sample_kor)"
   ]
  },
  {
   "cell_type": "markdown",
   "metadata": {},
   "source": [
    "Based on the potentially hazardous chemicals found in the California Safe Cosmetics Program (CSCP) dataset, there are 12 types of ingredients that are harmful. These 12 types of ingredients were then identified in the list of ingredients found on the Sephora skincare dataset (categorized between Western and Korean) and tagged as being harmful or not. Below is a summary of the number of products that do and do not contain harmful ingredients by category."
   ]
  },
  {
   "cell_type": "markdown",
   "metadata": {},
   "source": [
    "![Summary Table](/images/Harmful_summary.png)"
   ]
  },
  {
   "cell_type": "markdown",
   "metadata": {},
   "source": [
    "**Is the prevalance of toxic ingredients higher in Western skincare products than Korean ones?**"
   ]
  },
  {
   "cell_type": "markdown",
   "metadata": {},
   "source": [
    "$$ p_K = P(\\text{Korean skincare toxicity}) $$\n",
    "$$ p_W = P(\\text{Western skincare toxicity}) $$\n",
    "\n",
    "$$ H_0: \\ p_K = p_W $$"
   ]
  },
  {
   "cell_type": "markdown",
   "metadata": {},
   "source": [
    "We assume that the number of toxic products for Korean and Western brands are independent of one another and are Binomially distributed. A normal approximaton is appropriate for these Binomial distributions."
   ]
  },
  {
   "cell_type": "markdown",
   "metadata": {},
   "source": [
    "$$ \\text{# of toxic products in Korean products} \\sim Binomial(93, p_K) $$\n",
    "$$ \\text{# of toxic products in Western prodcuts} \\sim Binomial(1342, p_W) $$"
   ]
  },
  {
   "cell_type": "code",
   "execution_count": 14,
   "metadata": {},
   "outputs": [],
   "source": [
    "#use student t-test\n",
    "def welch_satterthwaite_df(sample1, sample2):\n",
    "    ss1 = len(sample1)\n",
    "    ss2 = len(sample2)\n",
    "    df = (\n",
    "        ((np.var(sample1)/ss1 + np.var(sample2)/ss2)**(2.0)) / \n",
    "        ((np.var(sample1)/ss1)**(2.0)/(ss1 - 1) + (np.var(sample2)/ss2)**(2.0)/(ss2 - 1))\n",
    "    )\n",
    "    return df"
   ]
  },
  {
   "cell_type": "code",
   "execution_count": 23,
   "metadata": {},
   "outputs": [
    {
     "name": "stdout",
     "output_type": "stream",
     "text": [
      "118.28802105140457\n"
     ]
    }
   ],
   "source": [
    "df= welch_satterthwaite_df(sample_west, sample_kor)\n",
    "print(df)"
   ]
  },
  {
   "cell_type": "code",
   "execution_count": 24,
   "metadata": {},
   "outputs": [
    {
     "data": {
      "text/plain": [
       "Text(0.5,1,\"Distribution of Welsh's Test Statistic Under the Null Hypothesis\")"
      ]
     },
     "execution_count": 24,
     "metadata": {},
     "output_type": "execute_result"
    },
    {
     "data": {
      "image/png": "[encoded data removed]",
      "text/plain": [
       "<Figure size 1152x216 with 1 Axes>"
      ]
     },
     "metadata": {},
     "output_type": "display_data"
    }
   ],
   "source": [
    "x = np.linspace(-3, 3, num=250)\n",
    "\n",
    "fig, ax = plt.subplots(1, figsize=(16, 3))\n",
    "students = stats.t(df)\n",
    "ax.plot(x, students.pdf(x), linewidth=2, label=\"Degree of Freedom: {:2.2f}\".format(df))\n",
    "ax.legend()\n",
    "ax.set_title(\"Distribution of Welsh's Test Statistic Under the Null Hypothesis\")"
   ]
  },
  {
   "cell_type": "code",
   "execution_count": null,
   "metadata": {},
   "outputs": [],
   "source": []
  }
 ],
 "metadata": {
  "kernelspec": {
   "display_name": "Python 3",
   "language": "python",
   "name": "python3"
  },
  "language_info": {
   "codemirror_mode": {
    "name": "ipython",
    "version": 3
   },
   "file_extension": ".py",
   "mimetype": "text/x-python",
   "name": "python",
   "nbconvert_exporter": "python",
   "pygments_lexer": "ipython3",
   "version": "3.6.5"
  }
 },
 "nbformat": 4,
 "nbformat_minor": 2
}
